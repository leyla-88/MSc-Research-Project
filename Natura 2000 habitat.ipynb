{
 "cells": [
  {
   "cell_type": "markdown",
   "id": "a0aa58ce",
   "metadata": {},
   "source": [
    "Exporting Natura 2000 shapefile with only Dune habitat"
   ]
  },
  {
   "cell_type": "code",
   "execution_count": 7,
   "id": "832bd69e",
   "metadata": {},
   "outputs": [],
   "source": [
    "import geopandas as gpd\n",
    "import pandas as pd"
   ]
  },
  {
   "cell_type": "code",
   "execution_count": 10,
   "id": "7828d6b8",
   "metadata": {},
   "outputs": [],
   "source": [
    "# The csv file containing the sitecodes for different habitats is filtered for dune habitats \n",
    "\n",
    "# Load the vector shapefile and the filtered CSV file into dataframes\n",
    "shapefile_path = \"/Users/leyla/Documents/Education/Imperial/MSc Environmental Technology/Research project/Coastal vulnerability/Data/Natural habitat/Natura 2000 Poland.shp\"\n",
    "csv_file_path = \"/Users/leyla/Documents/Education/Imperial/MSc Environmental Technology/Research project/Coastal vulnerability/Data/Natural habitat/Natura 2000 dune habitat w representativity.csv\"\n",
    "\n",
    "gdf = gpd.read_file(shapefile_path)\n",
    "df = pd.read_csv(csv_file_path)\n",
    "\n",
    "# Perform the inner join based on the \"SITECODE\" column\n",
    "merged_gdf = gdf.merge(df, on=\"SITECODE\", how=\"inner\")\n",
    "\n",
    "# merged_gdf now contains the vector shapefile with only the different dune habitats based on the SITECODE key.\n"
   ]
  },
  {
   "cell_type": "code",
   "execution_count": 7,
   "id": "50acd592-5776-4b5f-b0b9-d0f903b68444",
   "metadata": {},
   "outputs": [
    {
     "name": "stdout",
     "output_type": "stream",
     "text": [
      "      id   SITECODE                         SITENAME  MS SITETYPE  \\\n",
      "0  618.0  PLH320048              Diabelskie Pustacie  PL        B   \n",
      "1  560.0  PLH300021                 Poligon w Okonku  PL        B   \n",
      "2  602.0  PLH320037                       Dolna Odra  PL        B   \n",
      "3  603.0  PLH320020                   Wzgórza Bukowe  PL        B   \n",
      "4  584.0  PLH320018  Ujście Odry i Zalew Szczeciński  PL        B   \n",
      "\n",
      "                    INSPIRE_ID  \\\n",
      "0  PL.ZIPOP.1393.N2K.PLH320048   \n",
      "1  PL.ZIPOP.1393.N2K.PLH300021   \n",
      "2  PL.ZIPOP.1393.N2K.PLH320037   \n",
      "3  PL.ZIPOP.1393.N2K.PLH320020   \n",
      "4  PL.ZIPOP.1393.N2K.PLH320018   \n",
      "\n",
      "                                            geometry COUNTRY_CODE  \\\n",
      "0  POLYGON ((4762528.874 3396767.372, 4762393.797...           PL   \n",
      "1  MULTIPOLYGON (((4766588.582 3400880.639, 47665...           PL   \n",
      "2  MULTIPOLYGON (((4627768.742 3374256.911, 46278...           PL   \n",
      "3  POLYGON ((4634510.726 3374452.089, 4634527.418...           PL   \n",
      "4  MULTIPOLYGON (((4610161.724 3407143.803, 46101...           PL   \n",
      "\n",
      "   HABITATCODE                                        DESCRIPTION  \\\n",
      "0         2330  Inland dunes with open Corynephorus and Agrost...   \n",
      "1         2330  Inland dunes with open Corynephorus and Agrost...   \n",
      "2         2330  Inland dunes with open Corynephorus and Agrost...   \n",
      "3         2330  Inland dunes with open Corynephorus and Agrost...   \n",
      "4         2330  Inland dunes with open Corynephorus and Agrost...   \n",
      "\n",
      "  HABITAT_PRIORITY PRIORITY_FORM_HABITAT_TYPE  NON_PRESENCE_IN_SITE  COVER_HA  \\\n",
      "0              NaN                         No                     0      1.08   \n",
      "1              NaN                         No                     0     43.60   \n",
      "2              NaN                         No                     0     53.36   \n",
      "3              NaN                         No                     0      1.33   \n",
      "4              NaN                         No                     0      6.15   \n",
      "\n",
      "  REPRESENTATIVITY RELSURFACE CONSERVATION GLOBAL DATAQUALITY  \n",
      "0                C          C            C      C           M  \n",
      "1                B          C            B      B           M  \n",
      "2                C          C            C      C           G  \n",
      "3                C          C            C      C           G  \n",
      "4                A          B            B      B           G  \n"
     ]
    }
   ],
   "source": [
    "print(merged_gdf.head())"
   ]
  },
  {
   "cell_type": "code",
   "execution_count": 11,
   "id": "07737159-d242-4337-9779-f510e0645457",
   "metadata": {},
   "outputs": [
    {
     "name": "stderr",
     "output_type": "stream",
     "text": [
      "/var/folders/g2/nkztkgn13bl79kqy0zp3t7vc0000gn/T/ipykernel_2471/680770732.py:4: UserWarning: Column names longer than 10 characters will be truncated when saved to ESRI Shapefile.\n",
      "  merged_gdf.to_file(output_filename)\n"
     ]
    }
   ],
   "source": [
    "output_filename = 'dune_habitats_natura2000_r2.shp'\n",
    "\n",
    "# Export the GeoDataFrame to a new shapefile\n",
    "merged_gdf.to_file(output_filename)"
   ]
  },
  {
   "cell_type": "markdown",
   "id": "035f581a",
   "metadata": {},
   "source": [
    "Exporting list of all Polish habitat types"
   ]
  },
  {
   "cell_type": "code",
   "execution_count": 2,
   "id": "093b2198",
   "metadata": {},
   "outputs": [
    {
     "name": "stdout",
     "output_type": "stream",
     "text": [
      "['Coastal lagoons'\n",
      " 'Atlantic salt meadows (Glauco-Puccinellietalia maritimae)'\n",
      " 'Sandbanks which are slightly covered by sea water all the time'\n",
      " 'Large shallow inlets and bays'\n",
      " 'Vegetated sea cliffs of the Atlantic and Baltic Coasts'\n",
      " 'Salicornia and other annuals colonizing mud and sand'\n",
      " 'Embryonic shifting dunes'\n",
      " 'Hard oligo-mesotrophic waters with benthic vegetation of Chara spp.'\n",
      " 'Reefs'\n",
      " 'Natural eutrophic lakes with Magnopotamion or Hydrocharition - type vegetation'\n",
      " 'Dunes with Salix repens ssp. argentea (Salicion arenariae)'\n",
      " 'Inland dunes with open Corynephorus and Agrostis grasslands'\n",
      " 'Shifting dunes along the shoreline with Ammophila arenaria (\"white dunes\")'\n",
      " 'Decalcified fixed dunes with Empetrum nigrum'\n",
      " 'Wooded dunes of the Atlantic, Continental and Boreal region'\n",
      " 'Humid dune slacks'\n",
      " 'Oligotrophic waters containing very few minerals of sandy plains (Littorelletalia uniflorae)'\n",
      " 'Alpine rivers and their ligneous vegetation with Salix elaeagnos'\n",
      " 'Northern Atlantic wet heaths with Erica tetralix'\n",
      " 'Natural dystrophic lakes and ponds' 'Estuaries' 'European dry heaths'\n",
      " 'Rivers with muddy banks with Chenopodion rubri p.p. and Bidention p.p. vegetation'\n",
      " 'Bushes with Pinus mugo and Rhododendron hirsutum (Mugo-Rhododendretum hirsuti)'\n",
      " 'Juniperus communis formations on heaths or calcareous grasslands'\n",
      " 'Alpine rivers and the herbaceous vegetation along their banks'\n",
      " 'Alpine rivers and their ligneous vegetation with Myricaria germanica'\n",
      " 'Subcontinental peri-Pannonic scrub'\n",
      " 'Calaminarian grasslands of the Violetalia calaminariae'\n",
      " 'Siliceous alpine and boreal grasslands'\n",
      " 'Semi-natural dry grasslands and scrubland facies on calcareous substrates (Festuco-Brometalia) (* important orchid sites)'\n",
      " 'Water courses of plain to montane levels with the Ranunculion fluitantis and Callitricho-Batrachion vegetation'\n",
      " 'Hydrophilous tall herb fringe communities of plains and of the montane to alpine levels'\n",
      " 'Alpine and Boreal heaths'\n",
      " 'Molinia meadows on calcareous, peaty or clayey-silt-laden soils (Molinion caeruleae)'\n",
      " 'Alluvial meadows of river valleys of the Cnidion dubii'\n",
      " 'Species-rich Nardus grasslands, on silicious substrates in mountain areas (and submountain areas in Continental Europe)'\n",
      " 'Siliceous scree of the montane to snow levels (Androsacetalia alpinae and Galeopsietalia ladani)'\n",
      " 'Transition mires and quaking bogs'\n",
      " 'Medio-European upland siliceous screes'\n",
      " 'Degraded raised bogs still capable of natural regeneration'\n",
      " 'Calcareous rocky slopes with chasmophytic vegetation'\n",
      " 'Petrifying springs with tufa formation (Cratoneurion)' 'Alkaline fens'\n",
      " 'Siliceous rock with pioneer vegetation of the Sedo-Scleranthion or of the Sedo albi-Veronicion dillenii'\n",
      " 'Calcareous and calcshist screes of the montane to alpine levels (Thlaspietea rotundifolii)'\n",
      " 'Medio-European calcareous scree of hill and montane levels'\n",
      " 'Luzulo-Fagetum beech forests'\n",
      " 'Siliceous rocky slopes with chasmophytic vegetation'\n",
      " 'Caves not open to the public' 'Bog woodland'\n",
      " 'Asperulo-Fagetum beech forests'\n",
      " 'Alluvial forests with Alnus glutinosa and Fraxinus excelsior (Alno-Padion, Alnion incanae, Salicion albae)'\n",
      " 'Medio-European subalpine beech woods with Acer and Rumex arifolius'\n",
      " 'Sub-Atlantic and medio-European oak or oak-hornbeam forests of the Carpinion betuli'\n",
      " 'Galio-Carpinetum oak-hornbeam forests'\n",
      " 'Riparian mixed forests of Quercus robur, Ulmus laevis and Ulmus minor, Fraxinus excelsior or Fraxinus angustifolia, along the great rivers (Ulmenion minoris)'\n",
      " 'Old acidophilous oak woods with Quercus robur on sandy plains'\n",
      " 'Annual vegetation of drift lines'\n",
      " 'Holy Cross fir forest (Abietetum polonicum)'\n",
      " 'Western Carpathian calcicolous Pinus sylvestris forests'\n",
      " 'Central European lichen Scots pine forests'\n",
      " 'Alpine Larix decidua and/or Pinus cembra forests'\n",
      " 'Acidophilous Picea forests of the montane to alpine levels (Vaccinio-Piceetea)'\n",
      " 'Inland salt meadows'\n",
      " 'Fixed coastal dunes with herbaceous vegetation (\"grey dunes\")'\n",
      " 'Dunes with Hippopha√´ rhamnoides'\n",
      " 'Oligotrophic to mesotrophic standing waters with vegetation of the Littorelletea uniflorae and/or of the Iso√´to-Nanojuncetea'\n",
      " 'Sub-Arctic Salix spp. scrub'\n",
      " 'Rupicolous calcareous or basophilic grasslands of the Alysso-Sedion albi'\n",
      " 'Xeric sand calcareous grasslands'\n",
      " 'Alpine and subalpine calcareous grasslands'\n",
      " 'Rupicolous pannonic grasslands (Stipo-Festucetalia pallentis)'\n",
      " 'Lowland hay meadows (Alopecurus pratensis, Sanguisorba officinalis)'\n",
      " 'Mountain hay meadows' 'Active raised bogs'\n",
      " 'Depressions on peat substrates of the Rhynchosporion'\n",
      " 'Calcareous fens with Cladium mariscus and species of the Caricion davallianae'\n",
      " 'Medio-European limestone beech forests of the Cephalanthero-Fagion'\n",
      " 'Tilio-Acerion forests of slopes, screes and ravines'\n",
      " 'Euro-Siberian steppic woods with Quercus spp.']\n"
     ]
    }
   ],
   "source": [
    "import pandas as pd\n",
    "\n",
    "# Read the (original unfiltered) CSV file into a pandas dataframe\n",
    "df = pd.read_csv(\"/Users/leyla/Documents/Education/Imperial/MSc Environmental Technology/Research project/Coastal vulnerability/Data/Natural habitat/Natura 2000 Poland all habitats.csv\")\n",
    "\n",
    "# Get the unique habitats\n",
    "unique_habitats = df[\"DESCRIPTION\"].unique()\n",
    "\n",
    "# Print the list of unique habitats\n",
    "print(unique_habitats)"
   ]
  },
  {
   "cell_type": "markdown",
   "id": "755b0441",
   "metadata": {},
   "source": [
    "None of these habitats directly fall into the categories of \"emergent marsh,\" \"oyster reefs,\" \"submerged aquatic vegetation,\" \"kelp forests,\" or \"seagrass beds. "
   ]
  },
  {
   "cell_type": "code",
   "execution_count": null,
   "id": "dbfb73af",
   "metadata": {},
   "outputs": [],
   "source": []
  }
 ],
 "metadata": {
  "kernelspec": {
   "display_name": "Python 3 (ipykernel)",
   "language": "python",
   "name": "python3"
  },
  "language_info": {
   "codemirror_mode": {
    "name": "ipython",
    "version": 3
   },
   "file_extension": ".py",
   "mimetype": "text/x-python",
   "name": "python",
   "nbconvert_exporter": "python",
   "pygments_lexer": "ipython3",
   "version": "3.9.18"
  }
 },
 "nbformat": 4,
 "nbformat_minor": 5
}
