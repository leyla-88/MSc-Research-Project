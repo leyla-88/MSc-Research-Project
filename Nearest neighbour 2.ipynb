{
 "cells": [
  {
   "cell_type": "code",
   "execution_count": 2,
   "id": "bcfc8cb3",
   "metadata": {},
   "outputs": [],
   "source": [
    "import pandas as pd\n",
    "from scipy.spatial import cKDTree\n",
    "\n",
    "# Load wind_data and wave_data from CSV files\n",
    "wind_data = pd.read_csv(\"wind_data.csv\")\n",
    "wave_data = pd.read_csv(\"wave_data.csv\")\n",
    "\n",
    "# Convert wind_data and wave_data coordinates to arrays\n",
    "wind_coords = wind_data[['lat', 'lon']].values\n",
    "wave_coords = wave_data[['lat', 'lon']].values\n",
    "\n",
    "# Build a KDTree using wind_data coordinates\n",
    "tree = cKDTree(wind_coords)\n",
    "\n",
    "# Find the index of the nearest wave_data point for each wind_data point\n",
    "_, idx = tree.query(wave_coords)\n",
    "# The query method with wave_coords will find the nearest wind_data point for each wave_data point. \n",
    "\n",
    "# Add the nearest wave_data information to wind_data\n",
    "nearest_wave_data = wave_data.loc[idx].reset_index(drop=True)\n",
    "merged_data = pd.concat([wind_data, nearest_wave_data], axis=1)\n",
    "\n",
    "# Now merged_data contains the wave_data with the corresponding nearest wind_data information\n"
   ]
  },
  {
   "cell_type": "code",
   "execution_count": 12,
   "id": "9a07dd06",
   "metadata": {},
   "outputs": [
    {
     "name": "stdout",
     "output_type": "stream",
     "text": [
      "       lat      lon   V10PCT_0  V10PCT_22  V10PCT_45  V10PCT_67  V10PCT_90  \\\n",
      "0  56.3125  13.9375   5.740000   6.593333  10.159000   8.482308   8.122500   \n",
      "1  54.5625  15.4375   9.560000  11.627647  11.312432  11.404286  10.509310   \n",
      "2  54.6875  15.5625   9.055000  10.330667  11.656857  10.435000  10.643043   \n",
      "3  54.8125  15.6875  11.300000   9.430714  10.500238   9.960476  10.598667   \n",
      "4  54.9375  15.8125   9.115556  10.095714  10.445000  11.572222  10.423103   \n",
      "\n",
      "   V10PCT_112  V10PCT_135  V10PCT_157  ...  Wav_PPCT135  Wav_PPCT157  \\\n",
      "0    6.058182    7.372857    6.646667  ...     0.054272     0.045256   \n",
      "1   10.080000   10.512500    7.903333  ...     0.044600     0.042902   \n",
      "2   10.403750   11.817500    8.545000  ...     0.037156     0.041178   \n",
      "3   10.263636   11.571250   10.460000  ...     0.041570     0.048203   \n",
      "4   10.522727   11.608000   11.580000  ...     0.043094     0.045542   \n",
      "\n",
      "   Wav_PPCT180  Wav_PPCT202  Wav_PPCT225  Wav_PPCT247  Wav_PPCT270  \\\n",
      "0     0.032807     0.030302     0.000000     0.028356     0.050027   \n",
      "1     0.040652     0.038452     0.036307     0.041988     0.080278   \n",
      "2     0.035058     0.045770     0.037798     0.042951     0.074469   \n",
      "3     0.043222     0.047992     0.045126     0.050439     0.099609   \n",
      "4     0.044715     0.042819     0.045672     0.052651     0.116058   \n",
      "\n",
      "   Wav_PPCT292  Wav_PPCT315  Wav_PPCT337  \n",
      "0     0.102292     0.140182     0.152428  \n",
      "1     0.142992     0.165186     0.130870  \n",
      "2     0.135989     0.115257     0.128088  \n",
      "3     0.160918     0.115227     0.133120  \n",
      "4     0.118955     0.085668     0.126299  \n",
      "\n",
      "[5 rows x 84 columns]\n"
     ]
    }
   ],
   "source": [
    "print(merged_data.head())"
   ]
  },
  {
   "cell_type": "code",
   "execution_count": 13,
   "id": "f4a79c0d",
   "metadata": {},
   "outputs": [],
   "source": [
    "# Save the merged data to a new CSV file\n",
    "merged_data.to_csv(\"windwave_data2.csv\", index=False)\n"
   ]
  },
  {
   "cell_type": "code",
   "execution_count": null,
   "id": "3b763dff",
   "metadata": {},
   "outputs": [],
   "source": [
    "# Test if 1 and 2 are different\n",
    "\n",
    "import pandas as pd\n",
    "\n",
    "# Load the two datasets into pandas DataFrames\n",
    "data1 = pd.read_csv(\"windwave_data1.csv\")\n",
    "data2 = pd.read_csv(\"windwave_data2.csv\")\n",
    "\n",
    "# Step 2: Check if the shape of the two DataFrames is the same\n",
    "if data1.shape == data2.shape:\n",
    "    print(\"The two datasets have the same shape.\")\n",
    "else:\n",
    "    print(\"The two datasets have different shapes and are not the same.\")\n",
    "    exit()\n",
    "\n",
    "# Step 3: Compare the values in each corresponding cell of the two DataFrames\n",
    "are_equal = data1.equals(data2)\n",
    "\n",
    "# Step 4: Check for any missing values (NaN) in both DataFrames\n",
    "has_missing_values = data1.isna().sum().sum() != data2.isna().sum().sum()\n",
    "\n",
    "if are_equal and not has_missing_values:\n",
    "    print(\"The two datasets are the same.\")\n",
    "else:\n",
    "    print(\"The two datasets are not exactly the same.\")\n"
   ]
  },
  {
   "cell_type": "markdown",
   "id": "559ec4b3",
   "metadata": {},
   "source": [
    "Removing NA and 0 values from data:"
   ]
  },
  {
   "cell_type": "code",
   "execution_count": 11,
   "id": "e090256d",
   "metadata": {},
   "outputs": [
    {
     "name": "stdout",
     "output_type": "stream",
     "text": [
      "         lat      lon  V10PCT_0  V10PCT_22  V10PCT_45  V10PCT_67  V10PCT_90  \\\n",
      "805  54.3125  20.6875       0.0        0.0        0.0       0.00        0.0   \n",
      "806  56.3125  13.6875       0.0        0.0        0.0       0.00        0.0   \n",
      "807  53.8125  20.1875       0.0        0.0        0.0       7.12        0.0   \n",
      "808  55.1875  14.0625       0.0        0.0        0.0       0.00        0.0   \n",
      "809  55.5625  13.4375       0.0        0.0        0.0       0.00        0.0   \n",
      "\n",
      "     V10PCT_112  V10PCT_135  V10PCT_157  ...  Wav_PPCT135  Wav_PPCT157  \\\n",
      "805         0.0         0.0         0.0  ...     0.075348     0.052031   \n",
      "806         0.0         0.0         0.0  ...     0.075348     0.052031   \n",
      "807         0.0         0.0         0.0  ...     0.075348     0.052031   \n",
      "808         0.0         0.0         0.0  ...     0.075348     0.052031   \n",
      "809         0.0         0.0         0.0  ...     0.075348     0.052031   \n",
      "\n",
      "     Wav_PPCT180  Wav_PPCT202  Wav_PPCT225  Wav_PPCT247  Wav_PPCT270  \\\n",
      "805     0.036768          0.0          0.0     0.035998     0.062415   \n",
      "806     0.036768          0.0          0.0     0.035998     0.062415   \n",
      "807     0.036768          0.0          0.0     0.035998     0.062415   \n",
      "808     0.036768          0.0          0.0     0.035998     0.062415   \n",
      "809     0.036768          0.0          0.0     0.035998     0.062415   \n",
      "\n",
      "     Wav_PPCT292  Wav_PPCT315  Wav_PPCT337  \n",
      "805     0.132668     0.121781     0.141676  \n",
      "806     0.132668     0.121781     0.141676  \n",
      "807     0.132668     0.121781     0.141676  \n",
      "808     0.132668     0.121781     0.141676  \n",
      "809     0.132668     0.121781     0.141676  \n",
      "\n",
      "[5 rows x 84 columns]\n"
     ]
    }
   ],
   "source": [
    "windwave_data2a = pd.read_csv(\"windwave_data2a.csv\")\n",
    "\n",
    "windwave_data2a.drop(windwave_data2a[(windwave_data2a['lat'] == 0) & (windwave_data2a['lon'] == 0)].index, inplace=True)\n",
    "windwave_data2a.dropna(subset=['lat', 'lon'], inplace=True)\n",
    "\n",
    "print(windwave_data2a.tail())\n",
    "\n",
    "windwave_data2a.to_csv(\"windwave_data2b.csv\", index=False)"
   ]
  },
  {
   "cell_type": "code",
   "execution_count": null,
   "id": "92fe84fd",
   "metadata": {},
   "outputs": [],
   "source": []
  },
  {
   "cell_type": "code",
   "execution_count": null,
   "id": "1c133ddc",
   "metadata": {},
   "outputs": [],
   "source": []
  }
 ],
 "metadata": {
  "kernelspec": {
   "display_name": "Python 3 (ipykernel)",
   "language": "python",
   "name": "python3"
  },
  "language_info": {
   "codemirror_mode": {
    "name": "ipython",
    "version": 3
   },
   "file_extension": ".py",
   "mimetype": "text/x-python",
   "name": "python",
   "nbconvert_exporter": "python",
   "pygments_lexer": "ipython3",
   "version": "3.9.18"
  }
 },
 "nbformat": 4,
 "nbformat_minor": 5
}
